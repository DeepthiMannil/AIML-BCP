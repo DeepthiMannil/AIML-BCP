{
 "cells": [
  {
   "cell_type": "markdown",
   "metadata": {},
   "source": [
    "#WEEK3 Q1:\n",
    "--------------------\n",
    "\n",
    "Parameters in statistics\n",
    "-------------------------------------\n",
    "\n",
    "Population is the set of objects,things,events etc that we are interested to study about. The measurements calculated on the population is referred to as the Parameters. For example the mean and the variance of the population are population parameters.As population size is generally very huge and not easily available to study we take a subset of data from the population, known as the sample to make inference about the population. The estimates of the parameters calculated from the samples are known as statistic. \n"
   ]
  },
  {
   "cell_type": "markdown",
   "metadata": {},
   "source": [
    "Gaussian Distribution\n",
    "-------------------------------\n",
    "Gaussian distribution is the probability distribution of a continuos random variable which has a bell shape i.e It is a symmetric distribution with most of the values centred around the mean. The Gaussian distribution varies depending on the parameters mean and variance. Mean determines the centre of the distribution and variance decides the spread of the distribution.\n",
    "\n",
    "Binomial Distribution\n",
    "------------------------------\n",
    "Binomial distribution is the probability distribution of a discrete random variable which describes an event which can have only two outcomes i.e success or failure. This distribution depends on the probability of success and the number of trials.\n",
    "Each trial is independent of each other. As the number of trials increases to a large number binomial distribution approaches a bell shape curve."
   ]
  },
  {
   "cell_type": "markdown",
   "metadata": {},
   "source": [
    "#Difference  between Gaussian distribution and Binomial distribution\n",
    "--------------------------------------------------------------------------------------------------\n",
    "1)Gaussian distribution is a continuous random varaible distribution whereas binomial distribution is the discrete random variable distribution\n",
    "2)Gaussian distribution's parameters are mean and variance(standard deviation).Binomial distribution's parameters are the probability of success and the number of trials.\n"
   ]
  },
  {
   "cell_type": "markdown",
   "metadata": {},
   "source": [
    "#Q2:Logistic Regression\n",
    "-----------------------------------\n",
    "1)Logistic regression is a classification algorithm i.e it predicts the categorical class of an input.\n",
    "2)The logistic regression's predicted values is from 0 to 1(estimated probability)\n",
    "3)Based on a cut-off chosen the input is classified.\n",
    "4)Logistic regression uses a sigmoid function to allow the prediction between 0 and 1\n",
    "5)Main types of logistic regression are binomial(2 classes),multinomial(more than 2 classes),ordinal(when the categorical variables are ordinal)\n",
    "\n",
    "#Decision tree classifier:\n",
    "-----------------------------------\n",
    "1)It is a classification algorithm.\n",
    "2)A tree structure is created. At each node of the tree a feature is considered to split the data(across the branches) \n",
    "3)Based on the rules from roots to each leaf node, a new data point can be classified.\n",
    "4)A tree with largest information gain is built.\n",
    "5)Decision trees can easily overfit as we can split the data based on all the features. Hence usually a depth of the tree is chosen.\n",
    "\n",
    "#Random forest:\n",
    "-------------------------\n",
    "1)Its a classification algorithm.\n",
    "2)Its an ensemble method. Its an ensemble of decision tree classifiers.\n",
    "3)Individual decision trees are selected with random selection of attributes at each node to determine the split.\n",
    "4)Each tree votes for the output and the class predicted by maximum no of trees wins.\n",
    "5)In general Random forest performs better than decision trees."
   ]
  }
 ],
 "metadata": {
  "kernelspec": {
   "display_name": "Python 3",
   "language": "python",
   "name": "python3"
  },
  "language_info": {
   "codemirror_mode": {
    "name": "ipython",
    "version": 3
   },
   "file_extension": ".py",
   "mimetype": "text/x-python",
   "name": "python",
   "nbconvert_exporter": "python",
   "pygments_lexer": "ipython3",
   "version": "3.7.1"
  }
 },
 "nbformat": 4,
 "nbformat_minor": 2
}
